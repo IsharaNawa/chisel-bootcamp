{
 "cells": [
  {
   "attachments": {},
   "cell_type": "markdown",
   "metadata": {},
   "source": [
    "<a name=\"top\"></a><img src=\"images/chisel_1024.png\" alt=\"Chisel logo\" style=\"width:480px;\" />"
   ]
  },
  {
   "attachments": {},
   "cell_type": "markdown",
   "metadata": {},
   "source": [
    "# Module 3.6: Generators: Types\n",
    "**Prev: [Object Oriented Programming](3.5_object_oriented_programming.ipynb)**<br>\n",
    "**Next: [Introduction to FIRRTL](4.1_firrtl_ast.ipynb)**\n",
    "\n",
    "## Motivation\n",
    "Scala is a strongly-typed programming language.\n",
    "This is a two-edged sword; on one hand, many programs that would compile and execute in Python (a dynamically-typed language) would fail at compile time in Scala.\n",
    "On the other hand, programs that compile in Scala will contain many fewer runtime errors than a similar Python program.\n",
    "\n",
    "In this section, our goal is to familiarize you with types as a first class citizen in Scala.\n",
    "While initially you may feel you have limited productivity, you will soon learn to understand compile-time error messages and how to architect your programs with the type system in mind to catch more errors for you. \n",
    "\n",
    "\n",
    "## Setup"
   ]
  },
  {
   "cell_type": "code",
   "execution_count": 1,
   "metadata": {},
   "outputs": [
    {
     "data": {
      "text/plain": [
       "\u001b[36mpath\u001b[39m: \u001b[32mString\u001b[39m = \u001b[32m\"e:\\\\Academics\\\\PhD\\\\4.Chisel\\\\chisel-bootcamp/source/load-ivy.sc\"\u001b[39m"
      ]
     },
     "execution_count": 1,
     "metadata": {},
     "output_type": "execute_result"
    }
   ],
   "source": [
    "val path = System.getProperty(\"user.dir\") + \"/source/load-ivy.sc\"\n",
    "interp.load.module(ammonite.ops.Path(java.nio.file.FileSystems.getDefault().getPath(path)))"
   ]
  },
  {
   "cell_type": "code",
   "execution_count": 2,
   "metadata": {},
   "outputs": [
    {
     "data": {
      "text/plain": [
       "\u001b[32mimport \u001b[39m\u001b[36mchisel3._\n",
       "\u001b[39m\r\n",
       "\u001b[32mimport \u001b[39m\u001b[36mchisel3.util._\n",
       "\u001b[39m\r\n",
       "\u001b[32mimport \u001b[39m\u001b[36mchisel3.tester._\n",
       "\u001b[39m\r\n",
       "\u001b[32mimport \u001b[39m\u001b[36mchisel3.tester.RawTester.test\u001b[39m"
      ]
     },
     "execution_count": 2,
     "metadata": {},
     "output_type": "execute_result"
    }
   ],
   "source": [
    "import chisel3._\n",
    "import chisel3.util._\n",
    "import chisel3.tester._\n",
    "import chisel3.tester.RawTester.test"
   ]
  },
  {
   "attachments": {},
   "cell_type": "markdown",
   "metadata": {},
   "source": [
    "---\n",
    "# Static Types<a name=\"types-in-scala\"></a>\n",
    "\n",
    "## Types in Scala\n",
    "\n",
    "All objects in Scala have a type, which is usually the object's class.\n",
    "Let's see some:"
   ]
  },
  {
   "cell_type": "code",
   "execution_count": 3,
   "metadata": {},
   "outputs": [
    {
     "name": "stdout",
     "output_type": "stream",
     "text": [
      "int\n",
      "double\n",
      "class java.lang.String\n"
     ]
    }
   ],
   "source": [
    "println(10.getClass)\n",
    "println(10.0.getClass)\n",
    "println(\"ten\".getClass)     // this is a java string because Scala is built on top of Java"
   ]
  },
  {
   "attachments": {},
   "cell_type": "markdown",
   "metadata": {},
   "source": [
    "When you declare your own class, it has an associated type."
   ]
  },
  {
   "cell_type": "code",
   "execution_count": 4,
   "metadata": {},
   "outputs": [
    {
     "name": "stdout",
     "output_type": "stream",
     "text": [
      "class ammonite.$sess.cmd3$Helper$MyClass\n"
     ]
    },
    {
     "data": {
      "text/plain": [
       "defined \u001b[32mclass\u001b[39m \u001b[36mMyClass\u001b[39m"
      ]
     },
     "execution_count": 4,
     "metadata": {},
     "output_type": "execute_result"
    }
   ],
   "source": [
    "class MyClass {\n",
    "    def myMethod = ???\n",
    "}\n",
    "\n",
    "// this has an associated type\n",
    "println(new MyClass().getClass)\n",
    "\n",
    "// The type ammonite.$sess.cmd6$Helper$MyClass refers to a class that was defined within an Ammonite REPL session.\n",
    "\n",
    "// ammonite: This is the package used by the Ammonite Scala REPL, an enhanced Scala shell.\n",
    "\n",
    "// $sess: Indicates this is part of the interactive session.\n",
    "\n",
    "// cmd6: The class was defined in the 6th input command during the session.\n",
    "\n",
    "// Helper: Ammonite sometimes wraps session code in a helper object for evaluation.\n",
    "\n",
    "// MyClass: The actual class you defined."
   ]
  },
  {
   "attachments": {},
   "cell_type": "markdown",
   "metadata": {},
   "source": [
    "While not required, it is HIGHLY recommended that you **define input and output types for all function declarations**.\n",
    "This will let the Scala compiler catch improper use of a function."
   ]
  },
  {
   "cell_type": "code",
   "execution_count": 5,
   "metadata": {},
   "outputs": [
    {
     "data": {
      "text/plain": [
       "defined \u001b[32mfunction\u001b[39m \u001b[36mdouble\u001b[39m\r\n",
       "\u001b[36mres4_1\u001b[39m: \u001b[32mString\u001b[39m = \u001b[32m\"hihi\"\u001b[39m"
      ]
     },
     "execution_count": 5,
     "metadata": {},
     "output_type": "execute_result"
    }
   ],
   "source": [
    "def double(s: String): String = s + s\n",
    "// Uncomment the code below to test it\n",
    "double(\"hi\")      // Proper use of double\n",
    "// double(10)        // Bad input argument!, type mismatch will occur\n",
    "// double(\"hi\") / 10 // Inproper use of double's output!, output is not a double but a String"
   ]
  },
  {
   "attachments": {},
   "cell_type": "markdown",
   "metadata": {},
   "source": [
    "Functions that don't return anything return type `Unit`."
   ]
  },
  {
   "cell_type": "code",
   "execution_count": 6,
   "metadata": {},
   "outputs": [
    {
     "data": {
      "text/html": [
       "<div class=\"jp-RenderedText\">\n",
       "<pre><code><span style=\"color: rgb(0, 187, 187)\"><span class=\"ansi-cyan-fg\">counter</span></span>: <span style=\"color: rgb(0, 187, 0)\"><span class=\"ansi-green-fg\">Int</span></span> = <span style=\"color: rgb(0, 187, 0)\"><span class=\"ansi-green-fg\">1</span></span>\r\n",
       "defined <span style=\"color: rgb(0, 187, 0)\"><span class=\"ansi-green-fg\">function</span></span> <span style=\"color: rgb(0, 187, 187)\"><span class=\"ansi-cyan-fg\">increment</span></span></code></pre>\n",
       "</div>"
      ],
      "text/plain": [
       "\u001b[36mcounter\u001b[39m: \u001b[32mInt\u001b[39m = \u001b[32m1\u001b[39m\r\n",
       "defined \u001b[32mfunction\u001b[39m \u001b[36mincrement\u001b[39m"
      ]
     },
     "metadata": {},
     "output_type": "display_data"
    }
   ],
   "source": [
    "// create the counter variable\n",
    "var counter = 0\n",
    "\n",
    "// call the method to increment the variable\n",
    "// since it is global, the function can access it\n",
    "def increment(): Unit = {\n",
    "    counter += 1\n",
    "}\n",
    "\n",
    "// then call the function\n",
    "increment()"
   ]
  },
  {
   "attachments": {},
   "cell_type": "markdown",
   "metadata": {},
   "source": [
    "## Scala vs. Chisel Types<a name=\"scala-vs-chisel-types\"></a>\n",
    "\n",
    "Recap: Module 2.2 discussed the difference between Chisel types and Scala types, for example the fact that\n",
    "```scala\n",
    "val a = Wire(UInt(4.W))\n",
    "a := 0.U\n",
    "```\n",
    "is legal because `0.U` is of type `UInt` (a Chisel type), whereas\n",
    "```scala\n",
    "val a = Wire(UInt(4.W))\n",
    "a := 0\n",
    "```\n",
    "is illegal because 0 is type `Int` (a Scala type).\n",
    "\n",
    "This is also true of `Bool`, a Chisel type which is distinct from `Boolean`.\n",
    "```scala\n",
    "val bool = Wire(Bool())\n",
    "val boolean: Boolean = false\n",
    "// legal\n",
    "when (bool) { ... }\n",
    "if (boolean) { ... }\n",
    "// illegal\n",
    "if (bool) { ... }\n",
    "when (boolean) { ... }\n",
    "```\n",
    "\n",
    "If you make a mistake and mix up `UInt` and `Int` or `Bool` and `Boolean`, the Scala compiler will generally catch it for you.\n",
    "This is because of Scala's static typing.\n",
    "At compile time, the compiler is able to distinguish between Chisel and Scala types and also able to understand that `if ()` expects a `Boolean` and `when ()` expects a `Bool`.\n"
   ]
  },
  {
   "attachments": {},
   "cell_type": "markdown",
   "metadata": {},
   "source": [
    "## Scala Type Coercion (Automatically converting a value from one type to another )<a name=\"type-coercion\"></a>\n",
    "\n",
    "<!-- typeOf. Scala has a function called `typeOf[T]` which returns a type object for `T`. -->\n",
    "<!-- This doesn't actually seem useful to Chisel users... -->"
   ]
  },
  {
   "attachments": {},
   "cell_type": "markdown",
   "metadata": {
    "collapsed": true
   },
   "source": [
    "### asInstanceOf\n",
    "\n",
    "`x.asInstanceOf[T]` casts the object `x` to the type `T`. It throws an exception if the given object cannot be cast to type `T`."
   ]
  },
  {
   "cell_type": "code",
   "execution_count": 7,
   "metadata": {},
   "outputs": [
    {
     "name": "stdout",
     "output_type": "stream",
     "text": [
      "As expected, we can't cast UInt to Int\n",
      "UInt<2>(3)\n"
     ]
    },
    {
     "data": {
      "text/plain": [
       "\u001b[36mx\u001b[39m: \u001b[32mUInt\u001b[39m = UInt<2>(3)"
      ]
     },
     "execution_count": 7,
     "metadata": {},
     "output_type": "execute_result"
    }
   ],
   "source": [
    "// create the chisel type variable x\n",
    "val x: UInt = 3.U\n",
    "\n",
    "try {\n",
    "  // try to convert x to an Int\n",
    "  println(x.asInstanceOf[Int])\n",
    "} catch {\n",
    "  // UInt cant be coverted to Int\n",
    "  // this error will be thrown\n",
    "  case e: java.lang.ClassCastException => println(\"As expected, we can't cast UInt to Int\")\n",
    "}\n",
    "\n",
    "// But we can cast UInt to Data since UInt inherits from chisel3.Data, therefore casting is possible\n",
    "println(x.asInstanceOf[chisel3.Data])"
   ]
  },
  {
   "attachments": {},
   "cell_type": "markdown",
   "metadata": {},
   "source": [
    "\n",
    "### Type Casting in Chisel\n",
    "\n",
    "The code below will give an error if you try to run it without removing the comment.\n",
    "What's the problem?\n",
    "It is trying to assign a `UInt` to an `SInt`, which is illegal.\n",
    "\n",
    "Chisel has a set of type casting functions.\n",
    "The most general is `asTypeOf()`, which is shown below.\n",
    "Some chisel objects also define `asUInt()` and `asSInt()` as well as some others.\n",
    "\n",
    "If you remove the `//` from the code block below, the example should work for you.\n"
   ]
  },
  {
   "cell_type": "code",
   "execution_count": 8,
   "metadata": {},
   "outputs": [
    {
     "name": "stdout",
     "output_type": "stream",
     "text": [
      "Elaborating design...\n",
      "Done elaborating.\n",
      "test TypeConvertDemo Success: 0 tests passed in 2 cycles in 0.028309 seconds 70.65 Hz\n"
     ]
    },
    {
     "data": {
      "text/plain": [
       "defined \u001b[32mclass\u001b[39m \u001b[36mTypeConvertDemo\u001b[39m"
      ]
     },
     "execution_count": 8,
     "metadata": {},
     "output_type": "execute_result"
    }
   ],
   "source": [
    "class TypeConvertDemo extends Module {\n",
    "    val io = IO(new Bundle {\n",
    "        val in  = Input(UInt(4.W))\n",
    "        val out = Output(SInt(4.W))\n",
    "    })\n",
    "\n",
    "    // this is not possible\n",
    "    // chisel does not allow to assign a UInt to an SInt\n",
    "    // this will be in a infinite running sceneario\n",
    "    // io.out := io.in \n",
    "\n",
    "    // this is okay since type casting happens\n",
    "    io.out := io.in.asTypeOf(io.out) // also for typecasting we can use asUInt() , asSInt() , etc\n",
    "}\n",
    "\n",
    "test(new TypeConvertDemo) { c =>\n",
    "      c.io.in.poke(3.U)\n",
    "      c.io.out.expect(3.S)\n",
    "      c.io.in.poke(15.U)\n",
    "      c.io.out.expect(-1.S)\n",
    "}"
   ]
  },
  {
   "attachments": {},
   "cell_type": "markdown",
   "metadata": {},
   "source": [
    "---\n",
    "# Type Matching<a name=\"type-matching\"></a>\n",
    "\n",
    "## Match Operator\n",
    "Recall that in 3.1 the match operator was introduced.\n",
    "Type matching is especially useful when trying to write type-generic generators.\n",
    "The following example shows an example of a \"generator\" that can add two literals of type `UInt` or `SInt`.\n",
    "Later sections will talk more about writing type-generic generators.\n",
    "\n",
    "**Note: there are much better and safer ways to write type-generic generators in Scala**."
   ]
  },
  {
   "cell_type": "code",
   "execution_count": 9,
   "metadata": {},
   "outputs": [
    {
     "name": "stdout",
     "output_type": "stream",
     "text": [
      "Elaborating design...\n",
      "Done elaborating.\n",
      "module ConstantSum(\n",
      "  input        clock,\n",
      "  input        reset,\n",
      "  output [1:0] io_out\n",
      ");\n",
      "  assign io_out = 2'h3; // @[cmd8.sc 10:43]\n",
      "endmodule\n",
      "\n",
      "Elaborating design...\n",
      "Done elaborating.\n",
      "module ConstantSum(\n",
      "  input        clock,\n",
      "  input        reset,\n",
      "  output [2:0] io_out\n",
      ");\n",
      "  assign io_out = 3'sh1; // @[cmd8.sc 13:43]\n",
      "endmodule\n",
      "\n"
     ]
    },
    {
     "data": {
      "text/plain": [
       "defined \u001b[32mclass\u001b[39m \u001b[36mConstantSum\u001b[39m"
      ]
     },
     "execution_count": 9,
     "metadata": {},
     "output_type": "execute_result"
    }
   ],
   "source": [
    "class ConstantSum(in1: chisel3.Data, in2: chisel3.Data) extends Module {\n",
    "    val io = IO(new Bundle {\n",
    "\n",
    "        // we can dynamically set the type of output to be the output of the input\n",
    "        val out = Output(chiselTypeOf(in1)) // in case in1 is literal then just get its type\n",
    "    })\n",
    "    (in1, in2) match {\n",
    "\n",
    "        // if both are unsigned integers\n",
    "        case (x: UInt, y: UInt) => io.out := x + y\n",
    "\n",
    "        // if both are signed integers\n",
    "        case (x: SInt, y: SInt) => io.out := x + y\n",
    "\n",
    "        // any other type combinations\n",
    "        case _ => throw new Exception(\"I give up!\") // if we pass any other value, an error will be thrown\n",
    "    }\n",
    "}\n",
    "println(getVerilog(dut = new ConstantSum(3.U, 4.U)))    // this is acceptable\n",
    "println(getVerilog(dut = new ConstantSum(-3.S, 4.S)))   // this is acceptable\n",
    "// println(getVerilog(dut = new ConstantSum(3.U, 4.S)))    // an error will be thrown\n"
   ]
  },
  {
   "attachments": {},
   "cell_type": "markdown",
   "metadata": {},
   "source": [
    "It is good to remember that Chisel types generally should not be value matched.\n",
    "Scala's match executes during circuit elaboration, but what you probably want is a post-elaboration comparison.\n",
    "The following gives a syntax error:"
   ]
  },
  {
   "cell_type": "code",
   "execution_count": 9,
   "metadata": {},
   "outputs": [
    {
     "name": "stderr",
     "output_type": "stream",
     "text": [
      "(console):14:16 expected \")\"\n",
      "// this will give a syntax error\n",
      "\n",
      "class InputIsZero extends Module {\n",
      "    val io = IO(new Bundle {\n",
      "        val in  = Input(UInt(16.W))\n",
      "        val out = Output(Bool())\n",
      "    })\n",
      "\n",
      "    // this is not accurate code\n",
      "    io.out := (io.in match {\n",
      "        // note that case 0.U is an error\n",
      "        // because it is matched to the value\n",
      "        // Chisel thypes generally cant be value matched\n",
      "        case (0.U) => true.B\n",
      "        case _   => false.B\n",
      "    })\n",
      "\n",
      "    // accurate code\n",
      "    // when(io.in === 0.U){\n",
      "    //     io.out := true.B\n",
      "    // }.otherwise{\n",
      "    //     io.out := false.B\n",
      "    // }\n",
      "}\n",
      "println(getVerilog(new InputIsZero))\n",
      "                                                                                                                                                                                                                                                                                                                                                                                                             ^"
     ]
    },
    {
     "ename": "",
     "evalue": "",
     "output_type": "error",
     "traceback": [
      "(console):14:16 expected \")\"\r\n// this will give a syntax error\n\nclass InputIsZero extends Module {\n    val io = IO(new Bundle {\n        val in  = Input(UInt(16.W))\n        val out = Output(Bool())\n    })\n\n    // this is not accurate code\n    io.out := (io.in match {\n        // note that case 0.U is an error\n        // because it is matched to the value\n        // Chisel thypes generally cant be value matched\n        case (0.U) => true.B\n        case _   => false.B\n    })\n\n    // accurate code\n    // when(io.in === 0.U){\n    //     io.out := true.B\n    // }.otherwise{\n    //     io.out := false.B\n    // }\n}\nprintln(getVerilog(new InputIsZero))\r\n                                                                                                                                                                                                                                                                                                                                                                                                             ^"
     ]
    }
   ],
   "source": [
    "// this will give a syntax error\n",
    "\n",
    "class InputIsZero extends Module {\n",
    "    val io = IO(new Bundle {\n",
    "        val in  = Input(UInt(16.W))\n",
    "        val out = Output(Bool())\n",
    "    })\n",
    "\n",
    "    // this is not accurate code\n",
    "    io.out := (io.in match {\n",
    "        // note that case 0.U is an error\n",
    "        // because it is matched to the value\n",
    "        // Chisel thypes generally cant be value matched\n",
    "        case (0.U) => true.B\n",
    "        case _   => false.B\n",
    "    })\n",
    "\n",
    "    // accurate code\n",
    "    // when(io.in === 0.U){\n",
    "    //     io.out := true.B\n",
    "    // }.otherwise{\n",
    "    //     io.out := false.B\n",
    "    // }\n",
    "}\n",
    "println(getVerilog(new InputIsZero))"
   ]
  },
  {
   "attachments": {},
   "cell_type": "markdown",
   "metadata": {},
   "source": [
    "## Unapply\n",
    "What's actually going on when you do a match?\n",
    "How does Scala let you do fancy value matching with case classes like this:\n",
    "```scala\n",
    "case class Something(a: String, b: Int)\n",
    "val a = Something(\"A\", 3)\n",
    "a match {\n",
    "    case Something(\"A\", value) => value\n",
    "    case Something(str, 3)     => 0\n",
    "}\n",
    "```\n",
    "\n",
    "As it turns out, the companion object that is created for every case class also contains an **unapply** method, in addition to an **apply** method.\n",
    "What is an **unapply** method?\n",
    "\n",
    "Scala unapply methods are another form of syntactic sugar that give match statements the ability to both match on types and **extract values** from those types during the matching.\n",
    "\n",
    "Let's look at the following example.\n",
    "For some reason, let's say that if the generator is being pipelined, the delay is `3*totalWidth`, otherwise the delay is `2*someOtherWidth`.\n",
    "Because case classes have **unapply** defined, we can match values inside the case class, like so:"
   ]
  },
  {
   "cell_type": "code",
   "execution_count": null,
   "metadata": {},
   "outputs": [
    {
     "name": "stdout",
     "output_type": "stream",
     "text": [
      "20\n",
      "60\n"
     ]
    },
    {
     "data": {
      "text/plain": [
       "defined \u001b[32mclass\u001b[39m \u001b[36mSomeGeneratorParameters\u001b[39m\r\n",
       "defined \u001b[32mfunction\u001b[39m \u001b[36mdelay\u001b[39m"
      ]
     },
     "execution_count": 16,
     "metadata": {},
     "output_type": "execute_result"
    }
   ],
   "source": [
    "// first create a case class\n",
    "case class SomeGeneratorParameters(\n",
    "    // case class has three parameters\n",
    "    someWidth: Int,\n",
    "\n",
    "    // these two parameters can be option, otherwise a default value will be used\n",
    "    someOtherWidth: Int = 10,\n",
    "    pipelineMe: Boolean = false\n",
    ") {\n",
    "\n",
    "    // check for parameter requirements\n",
    "    require(someWidth >= 0)\n",
    "    require(someOtherWidth >= 0)\n",
    "\n",
    "    // calculate the totalWidth\n",
    "    val totalWidth = someWidth + someOtherWidth\n",
    "}\n",
    "\n",
    "// now create a function, which accepts SomeGeneratorParameters object\n",
    "def delay(p: SomeGeneratorParameters): Int = p match {\n",
    "\n",
    "    // match the false case for pipelineMe argument\n",
    "    // if that case matches, return 2 * someOtherWidth\n",
    "    case SomeGeneratorParameters(_, sw, false) => sw * 2\n",
    "\n",
    "    // match the true case for pipelineMe argument for true case\n",
    "    // here assign this matching object to sg\n",
    "    // if the case matches, return totalWidth * 3 as the output\n",
    "    case sg @SomeGeneratorParameters(_, _, true) => sg.totalWidth * 3\n",
    "}\n",
    "\n",
    "// here pipelineMe is false\n",
    "// therefore 10 * 2 will be printed\n",
    "println(delay(SomeGeneratorParameters(10, 10)))\n",
    "\n",
    "// here pipelineMe is true\n",
    "// the 20 * 3 will be printed\n",
    "println(delay(SomeGeneratorParameters(10, 10, true)))"
   ]
  },
  {
   "attachments": {},
   "cell_type": "markdown",
   "metadata": {},
   "source": [
    "If you look at the `delay` function, you should note that in addition to matching on the type of each character, we are also:\n",
    "- Directly referencing internal values of the parameters\n",
    "- Sometimes, are matching directly on the internal values of the parameters\n",
    "\n",
    "These are possible due to the compiler implementing an `unapply` method. Note that unapplying the case is just syntactic sugar; e.g. the following two cases examples are equivalent:\n",
    "```scala\n",
    "case p: SomeGeneratorParameters => p.sw * 2\n",
    "case SomeGeneratorParameters(_, sw, _) => sw * 2\n",
    "```\n",
    "\n",
    "In addition, there are more syntaxes and styles of matching. The following two cases are also equivalent, but the second allows you to match on internal values while still referencing the parent value:\n",
    "```scala\n",
    "case SomeGeneratorParameters(_, sw, true) => sw\n",
    "case sg @SomeGeneratorParameters(_, sw, true) => sw\n",
    "```\n",
    "\n",
    "Finally, you can directly embed condition checking into match statements, as demonstrated by the third of these equivalent examples:\n",
    "```scala\n",
    "case SomeGeneratorParameters(_, sw, false) => sw * 2\n",
    "case s @SomeGeneratorParameters(_, sw, false) => s.sw * 2\n",
    "case s: SomeGeneratorParameters if s.pipelineMe => s.sw * 2\n",
    "```\n",
    "\n",
    "All these syntaxes are enabled by a Scala unapply method contained in a class's companion object. If you want to unapply a class but do not want to make it a case class, you can manually implement the unapply method. The following example demonstrates how one can manually implement a class's apply and unapply methods:"
   ]
  },
  {
   "cell_type": "code",
   "execution_count": null,
   "metadata": {},
   "outputs": [
    {
     "name": "stdout",
     "output_type": "stream",
     "text": [
      "Pinta and Nina are small boats!\n"
     ]
    },
    {
     "data": {
      "text/plain": [
       "defined \u001b[32mclass\u001b[39m \u001b[36mBoat\u001b[39m\r\n",
       "defined \u001b[32mobject\u001b[39m \u001b[36mBoat\u001b[39m\r\n",
       "defined \u001b[32mfunction\u001b[39m \u001b[36mgetSmallBoats\u001b[39m\r\n",
       "\u001b[36mboats\u001b[39m: \u001b[32mSeq\u001b[39m[\u001b[32mBoat\u001b[39m] = \u001b[33mList\u001b[39m(\n",
       "  ammonite.$sess.cmd18$Helper$Boat@47e313ee,\n",
       "  ammonite.$sess.cmd18$Helper$Boat@64c790ea,\n",
       "  ammonite.$sess.cmd18$Helper$Boat@57be57b6\n",
       ")"
      ]
     },
     "execution_count": 19,
     "metadata": {},
     "output_type": "execute_result"
    }
   ],
   "source": [
    "// when you create a case class , unapply method will be automatically created\n",
    "\n",
    "// when you create normal classes, unapply method has to be manually created\n",
    "\n",
    "// create the Boat Class and Companion object\n",
    "class Boat(val name: String, val length: Int)\n",
    "\n",
    "// Companion Object\n",
    "object Boat {\n",
    "\n",
    "    // create the unapply method, this will return an Option which is a Some\n",
    "    // it contains name and the length of the boat\n",
    "    def unapply(b: Boat): Option[(String, Int)] = Some((b.name, b.length))\n",
    "\n",
    "    // apply method will just create a new Boat object, which is the usual behavior\n",
    "    def apply(name: String, length: Int): Boat = new Boat(name, length)\n",
    "}\n",
    "\n",
    "// create the function which does the matching\n",
    "// it requires a list of boats and will return a list of boats after filtering\n",
    "def getSmallBoats(seq: Seq[Boat]): Seq[Boat] = seq.filter { b =>\n",
    "\n",
    "    b match {\n",
    "\n",
    "        // check if the length is lower than 60, if so return true\n",
    "        case Boat(_, length) if length < 60 => true\n",
    "\n",
    "        // otherwise return false\n",
    "        case Boat(_, _) => false\n",
    "    }\n",
    "}\n",
    "\n",
    "// create a list of boats, amoung them last two boats will return true when the \n",
    "// function is applied\n",
    "val boats = Seq(Boat(\"Santa Maria\", 62), Boat(\"Pinta\", 56), Boat(\"Nina\", 50))\n",
    "println(getSmallBoats(boats).map(_.name).mkString(\" and \") + \" are small boats!\")\n",
    "\n",
    "// Key point - Unapply method helps with matching , not with the types but also with the internal parameters of an object"
   ]
  },
  {
   "attachments": {},
   "cell_type": "markdown",
   "metadata": {},
   "source": [
    "## Partial Functions\n",
    "This is a brief overview; [this guide](https://twitter.github.io/scala_school/pattern-matching-and-functional-composition.html#PartialFunction) has a more detailed overview.\n",
    "\n",
    "Partial functions are functions that are only defined on a subset of their inputs.\n",
    "Like an option, a partial function may not have a value for a particular input.\n",
    "This can be tested with `isDefinedAt(...)`.\n",
    "\n",
    "Partial functions can be chained together with `orElse`.\n",
    "\n",
    "Note that calling a `PartialFunction` with an undefined input will result in a runtime error. This can happen, for example, if the input to the `PartialFunction` is user-defined. To be more type-safe, we recommend writing functions that return an `Option` instead."
   ]
  },
  {
   "cell_type": "code",
   "execution_count": null,
   "metadata": {},
   "outputs": [
    {
     "name": "stdout",
     "output_type": "stream",
     "text": [
      "partialFunc1.isDefinedAt(2) = true\n",
      "partialFunc1.isDefinedAt(5) = true\n",
      "partialFunc1.isDefinedAt(1) = false\n",
      "partialFunc1.isDefinedAt(0) = false\n",
      "partialFunc1(2) = Something\n",
      "partialFunc1(0) = can't apply PartialFunctions where they are not defined\n",
      "partialFunc2.isDefinedAt(1) = true\n",
      "partialFunc2.isDefinedAt(0) = false\n",
      "partialFunc2(1) = Something else\n",
      "partialFunc2(0) = can't apply PartialFunctions where they are not defined\n",
      "partialFunc3.isDefinedAt(0) = false\n",
      "partialFunc3.isDefinedAt(1) = true\n",
      "partialFunc3.isDefinedAt(2) = true\n",
      "partialFunc3.isDefinedAt(3) = false\n",
      "partialFunc3(1) = Something else\n",
      "partialFunc3(2) = Something\n"
     ]
    },
    {
     "data": {
      "text/plain": [
       "defined \u001b[32mfunction\u001b[39m \u001b[36mprintAndAssert\u001b[39m\r\n",
       "\u001b[36mpartialFunc1\u001b[39m: \u001b[32mPartialFunction\u001b[39m[\u001b[32mInt\u001b[39m, \u001b[32mString\u001b[39m] = <function1>\r\n",
       "\u001b[36mpartialFunc2\u001b[39m: \u001b[32mPartialFunction\u001b[39m[\u001b[32mInt\u001b[39m, \u001b[32mString\u001b[39m] = <function1>\r\n",
       "\u001b[36mpartialFunc3\u001b[39m: \u001b[32mPartialFunction\u001b[39m[\u001b[32mInt\u001b[39m, \u001b[32mString\u001b[39m] = <function1>"
      ]
     },
     "execution_count": 24,
     "metadata": {},
     "output_type": "execute_result"
    }
   ],
   "source": [
    "// Helper function to make this cell a bit less tedious.\n",
    "def printAndAssert(cmd: String, result: Boolean, expected: Boolean): Unit = {\n",
    "  println(s\"$cmd = $result\")\n",
    "  assert(result == expected)\n",
    "}\n",
    "\n",
    "// Defined for -1, 2, 5, etc.\n",
    "val partialFunc1: PartialFunction[Int, String] = {\n",
    "  case i if (i + 1) % 3 == 0 => \"Something\"\n",
    "\n",
    "  // for other integers, there are no output\n",
    "}\n",
    "\n",
    "// check for isDefinedAt using that function with the help of the helper function\n",
    "printAndAssert(\"partialFunc1.isDefinedAt(2)\", partialFunc1.isDefinedAt(2), true)  // it is defined for 2\n",
    "printAndAssert(\"partialFunc1.isDefinedAt(5)\", partialFunc1.isDefinedAt(5), true)  // it is defined for 5\n",
    "printAndAssert(\"partialFunc1.isDefinedAt(1)\", partialFunc1.isDefinedAt(1), false) // it is not defined for 1\n",
    "printAndAssert(\"partialFunc1.isDefinedAt(0)\", partialFunc1.isDefinedAt(0), false) // it is not defined for 0\n",
    "println(s\"partialFunc1(2) = ${partialFunc1(2)}\")  // print Something if defined\n",
    "\n",
    "// it is not defined for 0, therefore catch block will catch the error\n",
    "try {\n",
    "  println(partialFunc1(0))\n",
    "} catch {\n",
    "  case e: scala.MatchError => println(\"partialFunc1(0) = can't apply PartialFunctions where they are not defined\")\n",
    "}\n",
    "\n",
    "// Defined for 1, 4, 7, etc.\n",
    "val partialFunc2: PartialFunction[Int, String] = {\n",
    "  case i if (i + 2) % 3 == 0 => \"Something else\"\n",
    "}\n",
    "printAndAssert(\"partialFunc2.isDefinedAt(1)\", partialFunc2.isDefinedAt(1), true)\n",
    "printAndAssert(\"partialFunc2.isDefinedAt(0)\", partialFunc2.isDefinedAt(0), false)\n",
    "println(s\"partialFunc2(1) = ${partialFunc2(1)}\")\n",
    "try {\n",
    "  println(partialFunc2(0))\n",
    "} catch {\n",
    "  case e: scala.MatchError => println(\"partialFunc2(0) = can't apply PartialFunctions where they are not defined\")\n",
    "}\n",
    "\n",
    "// this partial function is chained use orElse\n",
    "val partialFunc3 = partialFunc1 orElse partialFunc2\n",
    "printAndAssert(\"partialFunc3.isDefinedAt(0)\", partialFunc3.isDefinedAt(0), false)\n",
    "printAndAssert(\"partialFunc3.isDefinedAt(1)\", partialFunc3.isDefinedAt(1), true)\n",
    "printAndAssert(\"partialFunc3.isDefinedAt(2)\", partialFunc3.isDefinedAt(2), true)\n",
    "printAndAssert(\"partialFunc3.isDefinedAt(3)\", partialFunc3.isDefinedAt(3), false)\n",
    "println(s\"partialFunc3(1) = ${partialFunc3(1)}\")\n",
    "println(s\"partialFunc3(2) = ${partialFunc3(2)}\")"
   ]
  },
  {
   "attachments": {},
   "cell_type": "markdown",
   "metadata": {},
   "source": [
    "---\n",
    "# Type Safe Connections<a name=\"type-safe-connections\"></a>\n",
    "\n",
    "Chisel can check the type for many connections, including:\n",
    "* Bool/UInt to Clock\n",
    "\n",
    "For other types, Chisel will let you connect them, but may truncate/pad bits as appropriate.\n",
    "* Bool/UInt to Bool/UInt\n",
    "* Bundle to Bundle"
   ]
  },
  {
   "cell_type": "code",
   "execution_count": null,
   "metadata": {},
   "outputs": [
    {
     "name": "stdout",
     "output_type": "stream",
     "text": [
      "Elaborating design...\n",
      "[\u001b[31merror\u001b[0m] \tat ... ()\n",
      "[\u001b[31merror\u001b[0m] \tat ammonite.$sess.cmd19$Helper$BadTypeModule$$anon$1.<init>(cmd19.sc:23)\n",
      "[\u001b[31merror\u001b[0m] \tat ammonite.$sess.cmd19$Helper$BadTypeModule.<init>(cmd19.sc:11)\n",
      "[\u001b[31merror\u001b[0m] \tat ammonite.$sess.cmd19$Helper.$anonfun$res19_3$1(cmd19.sc:40)\n",
      "[\u001b[31merror\u001b[0m] \tat ... ()\n",
      "[\u001b[31merror\u001b[0m] \tat ... (Stack trace trimmed to user code only. Rerun with --full-stacktrace to see the full stack trace)\n"
     ]
    },
    {
     "ename": "",
     "evalue": "",
     "output_type": "error",
     "traceback": [
      "\u001b[31mscala.MatchError: ChiselExecutionFailure(Failed to elaborate Chisel circuit) (of class chisel3.ChiselExecutionFailure)\u001b[39m\r\n  ammonite.$file.dummy.source.load$minusivy_2$Helper.getVerilog(\u001b[32mMain.sc\u001b[39m:\u001b[32m26\u001b[39m)\r\n  ammonite.$sess.cmd19$Helper.<init>(\u001b[32mcmd19.sc\u001b[39m:\u001b[32m40\u001b[39m)\r\n  ammonite.$sess.cmd19$.<init>(\u001b[32mcmd19.sc\u001b[39m:\u001b[32m7\u001b[39m)\r\n  ammonite.$sess.cmd19$.<clinit>(\u001b[32mcmd19.sc\u001b[39m:\u001b[32m-1\u001b[39m)"
     ]
    }
   ],
   "source": [
    "// create a new bundle by extending the Bundle\n",
    "class Bundle1 extends Bundle {\n",
    "  val a = UInt(8.W)\n",
    "}\n",
    "\n",
    "// create another bundle by extending the bundle\n",
    "class Bundle2 extends Bundle1 {\n",
    "  val b = UInt(16.W)\n",
    "}\n",
    "\n",
    "class BadTypeModule extends Module {\n",
    "  val io = IO(new Bundle {\n",
    "\n",
    "    // create the clock\n",
    "    val c  = Input(Clock())\n",
    "\n",
    "    // create the input of 2bits\n",
    "    val in = Input(UInt(2.W))\n",
    "\n",
    "    // create one bit output\n",
    "    val out = Output(Bool())\n",
    "\n",
    "    // create an Input of Bundle2\n",
    "    val bundleIn = Input(new Bundle2)\n",
    "\n",
    "    // create an Output of Bundle1\n",
    "    val bundleOut = Output(new Bundle1)\n",
    "  })\n",
    "  \n",
    "  // connecting a clock to a boolean is not valid!\n",
    "  // io.out := io.c // won't work due to different types\n",
    "\n",
    "  // Okay, but Chisel will truncate the input width to 1 to match the output.\n",
    "  // io.out := io.in\n",
    "\n",
    "  // Compiles; Chisel will connect the common subelements of the two Bundles (in this case, 'a').\n",
    "  // but there is an error for some reason! maybe due to some version changes\n",
    "  // io.bundleOut := io.bundleIn\n",
    "}\n",
    "\n",
    "println(getVerilog(new BadTypeModule))"
   ]
  },
  {
   "attachments": {},
   "cell_type": "markdown",
   "metadata": {},
   "source": [
    "---\n",
    "# Type Generics<a name=\"type-generics\"></a>\n",
    "Scala's generic types (also known as polymorphism) is very complicated, especially when coupling it with inheritance.\n",
    "\n",
    "This section will just get your toes wet; to understand more, check out [this tutorial](https://twitter.github.io/scala_school/type-basics.html).\n",
    "\n",
    "Classes can be polymorphic in their types. One good example is sequences, which require knowing their contained type."
   ]
  },
  {
   "cell_type": "code",
   "execution_count": null,
   "metadata": {},
   "outputs": [
    {
     "data": {
      "text/plain": [
       "\u001b[36mseq1\u001b[39m: \u001b[32mSeq\u001b[39m[\u001b[32mString\u001b[39m] = \u001b[33mList\u001b[39m(\u001b[32m\"1\"\u001b[39m, \u001b[32m\"2\"\u001b[39m, \u001b[32m\"3\"\u001b[39m)\r\n",
       "\u001b[36mseq2\u001b[39m: \u001b[32mSeq\u001b[39m[\u001b[32mInt\u001b[39m] = \u001b[33mList\u001b[39m(\u001b[32m1\u001b[39m, \u001b[32m2\u001b[39m, \u001b[32m3\u001b[39m)\r\n",
       "\u001b[36mseq3\u001b[39m: \u001b[32mSeq\u001b[39m[\u001b[32mAny\u001b[39m] = \u001b[33mList\u001b[39m(\u001b[32m1\u001b[39m, \u001b[32m\"2\"\u001b[39m, true)"
      ]
     },
     "execution_count": 21,
     "metadata": {},
     "output_type": "execute_result"
    }
   ],
   "source": [
    "val seq1 = Seq(\"1\", \"2\", \"3\") // Type is Seq[String]\n",
    "val seq2 = Seq(1, 2, 3)       // Type is Seq[Int]\n",
    "val seq3 = Seq(1, \"2\", true)  // Type is Seq[Any]"
   ]
  },
  {
   "attachments": {},
   "cell_type": "markdown",
   "metadata": {},
   "source": [
    "Sometimes, the Scala compiler needs help determining a polymorphic type, which requires the user to explicitly put the type:"
   ]
  },
  {
   "cell_type": "code",
   "execution_count": null,
   "metadata": {},
   "outputs": [
    {
     "data": {
      "text/plain": [
       "\u001b[36mdefault\u001b[39m: \u001b[32mSeq\u001b[39m[\u001b[32mString\u001b[39m] = \u001b[33mList\u001b[39m()\r\n",
       "\u001b[36mres24_1\u001b[39m: \u001b[32mSeq\u001b[39m[\u001b[32mString\u001b[39m] = \u001b[33mList\u001b[39m(\u001b[32m\"2\"\u001b[39m)"
      ]
     },
     "execution_count": 25,
     "metadata": {},
     "output_type": "execute_result"
    }
   ],
   "source": [
    "//val default = Seq() // Error!\n",
    "\n",
    "// creates an empty sequence of strings.\n",
    "// this type hint is essential — otherwise Scala would not know what type the result of foldLeft should be\n",
    "val default = Seq[String]() // User must tell compiler that default is of type Seq[String]\n",
    "\n",
    "// Folds the sequence from left to right. Starts with default (Seq[String]()) as the accumulator\n",
    "Seq(1, \"2\", true).foldLeft(default){ (strings, next) =>\n",
    "    // strings: the accumulator (starts as Seq[String](), and grows over time).\n",
    "    // next: the current element from the original sequence (e.g., 1, then \"2\", then true)\n",
    "    next match {\n",
    "\n",
    "        // if the current item is a string, append that to the list\n",
    "        case s: String => strings ++ Seq(s)\n",
    "\n",
    "        // otherwise just return the string sequence\n",
    "        case _ => strings\n",
    "    }\n",
    "}"
   ]
  },
  {
   "attachments": {},
   "cell_type": "markdown",
   "metadata": {},
   "source": [
    "Functions can also be polymorphic in their input or output types. The following example defines a function that times how long it takes to run a block of code. It is parameterized based on the return type of the block of code. *Note that the `=> T` syntax encodes an anonymous function that does not have an argument list, e.g. `{ ... }` versus `{ x => ... }`.*"
   ]
  },
  {
   "cell_type": "code",
   "execution_count": null,
   "metadata": {},
   "outputs": [
    {
     "name": "stdout",
     "output_type": "stream",
     "text": [
      "Block took 16.9167 milliseconds!\n",
      "Add 1 through a million is 1784293664\n",
      "Block took 88.667 milliseconds!\n",
      "The largest number under a million that has beef: ebeef\n"
     ]
    },
    {
     "data": {
      "text/plain": [
       "defined \u001b[32mfunction\u001b[39m \u001b[36mtime\u001b[39m\r\n",
       "\u001b[36mint\u001b[39m: \u001b[32mInt\u001b[39m = \u001b[32m1784293664\u001b[39m\r\n",
       "\u001b[36mstring\u001b[39m: \u001b[32mString\u001b[39m = \u001b[32m\"ebeef\"\u001b[39m"
      ]
     },
     "execution_count": 28,
     "metadata": {},
     "output_type": "execute_result"
    }
   ],
   "source": [
    "// [T] : This is a type parameter — it means the function is generic and can work with any return type T, value of the T is based on the code block\n",
    "// This is a parameter named block, which is a call-by-name expression returning type T.\n",
    "// This means the function time will return a value of type T, whatever that may be.\n",
    "// This is powerful because we can execute any code block inside this function\n",
    "def time[T](block: => T): T = {\n",
    "    val t0 = System.nanoTime()\n",
    "    val result = block\n",
    "    val t1 = System.nanoTime()\n",
    "    val timeMillis = (t1 - t0) / 1000000.0\n",
    "    println(s\"Block took $timeMillis milliseconds!\")\n",
    "    result\n",
    "}\n",
    "\n",
    "// Adds 1 through a million\n",
    "val int = time { (1 to 1000000).reduce(_ + _) }\n",
    "println(s\"Add 1 through a million is $int\")\n",
    "\n",
    "// Finds the largest number under a million that, in hex, contains \"beef\"\n",
    "val string = time {\n",
    "    (1 to 1000000).map(_.toHexString).filter(_.contains(\"beef\")).last\n",
    "}\n",
    "println(s\"The largest number under a million that has beef: $string\")"
   ]
  },
  {
   "attachments": {},
   "cell_type": "markdown",
   "metadata": {},
   "source": [
    "## Chisel Type Hierarchy\n",
    "To write type generic code with Chisel, it is helpful to know a bit about the type hierarchy of Chisel.\n",
    "\n",
    "`chisel3.Data` is the base class for Chisel hardware types.\n",
    "`UInt`, `SInt`, `Vec`, `Bundle`, etc. are all instances of `Data`.\n",
    "`Data` can be used in IOs and supports `:=`, wires, regs, etc.\n",
    "\n",
    "Registers are a good example of polymorphic code in Chisel.\n",
    "Look at the implementation of `RegEnable` (a register with a `Bool` enable signal) [here](https://github.com/freechipsproject/chisel3/blob/v3.0.0/src/main/scala/chisel3/util/Reg.scala#L10).\n",
    "The apply function is templated for `[T <: Data]`, which means `RegEnable` will work for all Chisel hardware types.\n",
    "\n",
    "Some operations are only defined on subtypes of `Bits`, for example `+`.\n",
    "This is why you can add `UInt`s or `SInt`s but not `Bundle`s or `Vec`s."
   ]
  },
  {
   "attachments": {},
   "cell_type": "markdown",
   "metadata": {},
   "source": [
    "<span style=\"color:blue\">**Example: Type Generic ShiftRegister**<a name=\"type-generic-shift-register\"></a></span><br>\n",
    "In Scala, objects and functions aren't the only things we can treat as parameters.\n",
    "We can also treat types as parameters.\n",
    "\n",
    "We usually need to provide a type constraint.\n",
    "In this case, we want to be able to put objects in a bundle, connect (:=) them, and create registers with them (RegNext).\n",
    "These operations cannot be done on arbitrary objects; for example wire := 3 is illegal because 3 is a Scala Int, not a Chisel UInt.\n",
    "If we use a type constraint to say that type T is a subclass of Data, then we can use := on any objects of type T because := is defined for all Data.\n",
    "\n",
    "Here is an implementation of a shift register that take types as a parameter.\n",
    "*gen* is an argument of type T that tells what width to use, for example new ShiftRegister(UInt(4.W)) is a shift register for 4-bit UInts.\n",
    "*gen* also allows the Scala compiler to infer the type T- you can write new ShiftRegister[UInt](UInt(4.W)) if you want to to be more specific, but the Scala compiler is smart enough to figure it out if you leave out the [UInt]."
   ]
  },
  {
   "cell_type": "code",
   "execution_count": null,
   "metadata": {},
   "outputs": [
    {
     "name": "stdout",
     "output_type": "stream",
     "text": [
      "Elaborating design...\n",
      "Done elaborating.\n",
      "Testing ShiftRegister of type SInt<6>(IO io_in in ShiftRegister) and depth 4\n",
      "0: Vector(0, 0, 0, 0)\n",
      "1: Vector(1, 0, 0, 0)\n",
      "2: Vector(2, 1, 0, 0)\n",
      "3: Vector(3, 2, 1, 0)\n",
      "4: Vector(4, 3, 2, 1)\n",
      "5: Vector(5, 4, 3, 2)\n",
      "6: Vector(6, 5, 4, 3)\n",
      "7: Vector(7, 6, 5, 4)\n",
      "8: Vector(8, 7, 6, 5)\n",
      "9: Vector(9, 8, 7, 6)\n",
      "test ShiftRegister Success: 0 tests passed in 12 cycles in 0.010699 seconds 1121.65 Hz\n"
     ]
    },
    {
     "data": {
      "text/plain": [
       "defined \u001b[32mclass\u001b[39m \u001b[36mShiftRegisterIO\u001b[39m\r\n",
       "defined \u001b[32mclass\u001b[39m \u001b[36mShiftRegister\u001b[39m"
      ]
     },
     "execution_count": 38,
     "metadata": {},
     "output_type": "execute_result"
    }
   ],
   "source": [
    "// T <: chisel3.Data  means T is a chisel hardware type\n",
    "// gen is of type T, here T is used to pass the chisel hardware type i.e. we are passing the type as an argument\n",
    "// n is of type n, which is number of delays or shifts\n",
    "class ShiftRegisterIO[T <: chisel3.Data](gen: T, n: Int) extends Bundle {\n",
    "\n",
    "    // number of shifts is not negative\n",
    "    require (n >= 0, \"Shift register must have non-negative shift\")\n",
    "    \n",
    "    // gen can be something like UInt(4.W)\n",
    "    val in = Input(gen)\n",
    "\n",
    "    // output is a vector which has n+1 values with gen (chisel hardware types)\n",
    "    // we are outputting the io.in as well that is why we do + 1 to n\n",
    "    val out = Output(Vec(n + 1, gen)) // + 1 because in is included in out\n",
    "\n",
    "    // Required in some older versions of Chisel to support proper type cloning at runtime.\n",
    "    override def cloneType: this.type = (new ShiftRegisterIO(gen, n)).asInstanceOf[this.type]\n",
    "}\n",
    "\n",
    "class ShiftRegister[T <: chisel3.Data](gen: T, n: Int) extends Module {\n",
    "    val io = IO(new ShiftRegisterIO(gen, n))\n",
    "    \n",
    "    io.out.foldLeft(io.in) { case (in, out) =>\n",
    "        out := in\n",
    "        RegNext(in)\n",
    "    }\n",
    "}\n",
    "\n",
    "// visualize(() => new ShiftRegister(SInt(6.W), 3)) // image is generated\n",
    "test(new ShiftRegister(SInt(6.W), 3)) { c => \n",
    "    println(s\"Testing ShiftRegister of type ${c.io.in} and depth ${c.io.out.length}\")\n",
    "    for (i <- 0 until 10) {\n",
    "        c.io.in.poke(i.S) // magic literal creation\n",
    "        println(s\"$i: ${c.io.out.indices.map { index => c.io.out(index).peek().litValue} }\")\n",
    "        c.clock.step(1)\n",
    "    }}"
   ]
  },
  {
   "attachments": {},
   "cell_type": "markdown",
   "metadata": {},
   "source": [
    "We generally recommend avoiding to use inheritance with type generics.\n",
    "It can be very tricky to do properly and can get frustrating quickly."
   ]
  },
  {
   "attachments": {},
   "cell_type": "markdown",
   "metadata": {},
   "source": [
    "## Type Generics with Typeclasses\n",
    "\n",
    "The example above was limited to simple operations that could be performed on any instance of `Data` such as `:=` or `RegNext()`.\n",
    "When generating DSP circuits, we would like to do mathematical operations like addition and multiplication.\n",
    "The `dsptools` library provides tools for writing type parameterized DSP generators.\n",
    "\n",
    "Here is an example of writing a multiply-accumulate module.\n",
    "It can be used to generate a multiply-accumulate (MAC) for `FixedPoint`, `SInt`, or even `DspComplex[T]` (the complex number type provided by `dsptools`).\n",
    "The syntax of the type bound is a little different because `dsptools` uses typeclasses.\n",
    "They are beyond the scope of this notebook.\n",
    "Read the `dsptools` readme and documentation for more information on using typeclasses.\n",
    "\n",
    "`T <: Data : Ring` means that `T` is a subtype of `Data` and is also a `Ring` .\n",
    "`Ring` is defined in `dsptools` as a number with `+` and `*` (among other operations).\n",
    "\n",
    "_An alternative to `Ring` would be `Real`, but that would not allow us to make a MAC for `DspComplex()` because complex numbers are not `Real`._\n",
    "\n"
   ]
  },
  {
   "cell_type": "code",
   "execution_count": null,
   "metadata": {},
   "outputs": [
    {
     "name": "stdout",
     "output_type": "stream",
     "text": [
      "Elaborating design...\n",
      "Done elaborating.\n",
      "module Mac(\n",
      "  input        clock,\n",
      "  input        reset,\n",
      "  input  [3:0] io_a,\n",
      "  input  [3:0] io_b,\n",
      "  input  [3:0] io_c,\n",
      "  output [5:0] io_out\n",
      ");\n",
      "  wire [7:0] _T = io_a * io_b; // @[UIntTypeClass.scala 40:41]\n",
      "  wire [7:0] _GEN_0 = {{4'd0}, io_c}; // @[UIntTypeClass.scala 19:40]\n",
      "  wire [7:0] _T_2 = _T + _GEN_0; // @[UIntTypeClass.scala 19:40]\n",
      "  assign io_out = _T_2[5:0]; // @[cmd18.sc 11:12]\n",
      "endmodule\n",
      "\n",
      "Elaborating design...\n",
      "Done elaborating.\n",
      "module Mac(\n",
      "  input        clock,\n",
      "  input        reset,\n",
      "  input  [3:0] io_a,\n",
      "  input  [3:0] io_b,\n",
      "  input  [3:0] io_c,\n",
      "  output [5:0] io_out\n",
      ");\n",
      "  wire [7:0] _T = $signed(io_a) * $signed(io_b); // @[SIntTypeClass.scala 45:41]\n",
      "  wire [7:0] _GEN_0 = {{4{io_c[3]}},io_c}; // @[SIntTypeClass.scala 19:40]\n",
      "  wire [7:0] _T_3 = $signed(_T) + $signed(_GEN_0); // @[SIntTypeClass.scala 19:40]\n",
      "  assign io_out = _T_3[5:0]; // @[cmd18.sc 11:12]\n",
      "endmodule\n",
      "\n",
      "Elaborating design...\n",
      "Done elaborating.\n",
      "module Mac(\n",
      "  input        clock,\n",
      "  input        reset,\n",
      "  input  [3:0] io_a,\n",
      "  input  [3:0] io_b,\n",
      "  input  [3:0] io_c,\n",
      "  output [5:0] io_out\n",
      ");\n",
      "  wire [7:0] _T = $signed(io_a) * $signed(io_b); // @[FixedPointTypeClass.scala 43:59]\n",
      "  wire [6:0] _GEN_0 = {$signed(io_c), 3'h0}; // @[FixedPointTypeClass.scala 21:58]\n",
      "  wire [7:0] _GEN_1 = {{1{_GEN_0[6]}},_GEN_0}; // @[FixedPointTypeClass.scala 21:58]\n",
      "  wire [7:0] _T_3 = $signed(_T) + $signed(_GEN_1); // @[FixedPointTypeClass.scala 21:58]\n",
      "  assign io_out = _T_3[7:2]; // @[cmd18.sc 11:12]\n",
      "endmodule\n",
      "\n"
     ]
    },
    {
     "data": {
      "text/plain": [
       "\u001b[32mimport \u001b[39m\u001b[36mchisel3.experimental._\n",
       "\u001b[39m\r\n",
       "\u001b[32mimport \u001b[39m\u001b[36mdsptools.numbers._\n",
       "\n",
       "\u001b[39m\r\n",
       "defined \u001b[32mclass\u001b[39m \u001b[36mMac\u001b[39m"
      ]
     },
     "execution_count": 19,
     "metadata": {},
     "output_type": "execute_result"
    }
   ],
   "source": [
    "import chisel3.experimental._\n",
    "import dsptools.numbers._\n",
    "\n",
    "class Mac[T <: chisel3.Data : Ring](genIn : T, genOut: T) extends Module {\n",
    "    val io = IO(new Bundle {\n",
    "        val a = Input(genIn)\n",
    "        val b = Input(genIn)\n",
    "        val c = Input(genIn)\n",
    "        val out = Output(genOut)\n",
    "    })\n",
    "    io.out := io.a * io.b + io.c\n",
    "}\n",
    "\n",
    "println(getVerilog(new Mac(UInt(4.W), UInt(6.W)) ))\n",
    "println(getVerilog(new Mac(SInt(4.W), SInt(6.W)) ))\n",
    "println(getVerilog(new Mac(FixedPoint(4.W, 3.BP), FixedPoint(6.W, 4.BP))))\n"
   ]
  },
  {
   "attachments": {},
   "cell_type": "markdown",
   "metadata": {},
   "source": [
    "<span style=\"color:red\">**Exercise: Mac as Object**</span><br>\n",
    "\n",
    "The Mac `Module` has a small number of inputs and just one output.\n",
    "It might be convenient for other Chisel generators to write code like\n",
    "```scala\n",
    "val out = Mac(a, b, c)\n",
    "```\n",
    "\n",
    "Implement an `apply` method in the `Mac` companion object below that implements the `Mac` functionality."
   ]
  },
  {
   "cell_type": "code",
   "execution_count": null,
   "metadata": {},
   "outputs": [
    {
     "name": "stdout",
     "output_type": "stream",
     "text": [
      "Elaborating design...\n",
      "Done elaborating.\n",
      "module MacTestModule(\n",
      "  input        clock,\n",
      "  input        reset,\n",
      "  input  [3:0] io_uin,\n",
      "  output [7:0] io_uout,\n",
      "  input  [3:0] io_sin,\n",
      "  output [7:0] io_sout\n",
      ");\n",
      "  wire [7:0] _T = io_uin * io_uin; // @[UIntTypeClass.scala 40:41]\n",
      "  wire [7:0] _GEN_0 = {{4'd0}, io_uin}; // @[UIntTypeClass.scala 19:40]\n",
      "  wire [7:0] _T_3 = $signed(io_sin) * $signed(io_sin); // @[SIntTypeClass.scala 45:41]\n",
      "  wire [7:0] _GEN_1 = {{4{io_sin[3]}},io_sin}; // @[SIntTypeClass.scala 19:40]\n",
      "  assign io_uout = _T + _GEN_0; // @[UIntTypeClass.scala 19:40]\n",
      "  assign io_sout = $signed(_T_3) + $signed(_GEN_1); // @[SIntTypeClass.scala 19:40]\n",
      "endmodule\n",
      "\n"
     ]
    },
    {
     "data": {
      "text/plain": [
       "\u001b[32mimport \u001b[39m\u001b[36mdsptools.numbers._\n",
       "\n",
       "\u001b[39m\r\n",
       "defined \u001b[32mobject\u001b[39m \u001b[36mMac\u001b[39m\r\n",
       "defined \u001b[32mclass\u001b[39m \u001b[36mMacTestModule\u001b[39m"
      ]
     },
     "execution_count": 23,
     "metadata": {},
     "output_type": "execute_result"
    },
    {
     "ename": "",
     "evalue": "",
     "output_type": "error",
     "traceback": [
      "\u001b[1;31mThe Kernel crashed while executing code in the current cell or a previous cell. \n",
      "\u001b[1;31mPlease review the code in the cell(s) to identify a possible cause of the failure. \n",
      "\u001b[1;31mClick <a href='https://aka.ms/vscodeJupyterKernelCrash'>here</a> for more info. \n",
      "\u001b[1;31mView Jupyter <a href='command:jupyter.viewOutput'>log</a> for further details."
     ]
    }
   ],
   "source": [
    "import dsptools.numbers._\n",
    "\n",
    "object Mac {\n",
    "    def apply[T <: chisel3.Data : Ring](a: T, b: T, c: T): T = {\n",
    "        a * b + c\n",
    "    }\n",
    "}\n",
    "\n",
    "class MacTestModule extends Module {\n",
    "    val io = IO(new Bundle {\n",
    "        val uin = Input(UInt(4.W))\n",
    "        val uout = Output(UInt())\n",
    "        val sin = Input(SInt(4.W))\n",
    "        val sout = Output(SInt())\n",
    "        //val fin = Input(FixedPoint(16.W, 12.BP))\n",
    "        //val fout = Output(FixedPoint())\n",
    "    })\n",
    "    // for each IO pair, do out = in * in + in\n",
    "\n",
    "    // no new keyword, which means this uses companion object\n",
    "    // do the operation of a * b + c then it will get assigned to io.uout\n",
    "    io.uout := Mac(io.uin, io.uin, io.uin)\n",
    "    io.sout := Mac(io.sin, io.sin, io.sin)\n",
    "    //io.fout := Mac(io.fin, io.fin, io.fin)\n",
    "}\n",
    "println(getVerilog(new MacTestModule))"
   ]
  },
  {
   "attachments": {},
   "cell_type": "markdown",
   "metadata": {},
   "source": [
    "<div id=\"container\"><section id=\"accordion\"><div>\n",
    "<input type=\"checkbox\" id=\"check-1\" />\n",
    "<label for=\"check-1\"><strong>Solution</strong> (click to toggle displaying)</label>\n",
    "<article>\n",
    "<pre style=\"background-color:#f7f7f7\">\n",
    "\n",
    "        a * b + c\n",
    "\n",
    "</pre></article></div></section></div>"
   ]
  },
  {
   "attachments": {},
   "cell_type": "markdown",
   "metadata": {},
   "source": [
    "<span style=\"color:red\">**Exercise: Integrator**</span><br>\n",
    "Implement an integrator as pictured below. $n_1$ is the width of `genReg` and $n_2$ is the width of `genIn`.\n",
    "\n",
    "Don't forget that `Reg`, `RegInit`, `RegNext`, `RegEnable`, etc. are templated for types `T <: Data`.\n",
    "\n",
    "<img src=\"images/integrator.svg\" alt=\"Integrator\" style=\"width: 250px;\"/>"
   ]
  },
  {
   "cell_type": "code",
   "execution_count": null,
   "metadata": {},
   "outputs": [
    {
     "name": "stdout",
     "output_type": "stream",
     "text": [
      "Elaborating design...\n",
      "Done elaborating.\n",
      "test Integrator Success: 0 tests passed in 5 cycles in 0.006224 seconds 803.41 Hz\n"
     ]
    },
    {
     "data": {
      "text/plain": [
       "\u001b[32mimport \u001b[39m\u001b[36mdsptools.numbers._\n",
       "\n",
       "\u001b[39m\r\n",
       "defined \u001b[32mclass\u001b[39m \u001b[36mIntegrator\u001b[39m"
      ]
     },
     "execution_count": 10,
     "metadata": {},
     "output_type": "execute_result"
    }
   ],
   "source": [
    "import dsptools.numbers._\n",
    "\n",
    "class Integrator[T <: chisel3.Data : Ring](genIn: T, genReg: T) extends Module {\n",
    "    val io = IO(new Bundle {\n",
    "        val in  = Input(genIn)\n",
    "        val out = Output(genReg)\n",
    "    })\n",
    "    \n",
    "    // My answer\n",
    "    // val reg = RegNext(io.in + io.out)\n",
    "    // io.out := reg\n",
    "\n",
    "    // a more accurate one\n",
    "    val reg = RegInit(genReg,Ring[T].zero)\n",
    "    reg := reg + io.in\n",
    "    io.out := reg\n",
    "}\n",
    "\n",
    "test(new Integrator(SInt(4.W), SInt(8.W))) { c =>\n",
    "    c.io.in.poke(3.S)\n",
    "    c.io.out.expect(0.S)\n",
    "    c.clock.step(1)\n",
    "    c.io.in.poke(-4.S)\n",
    "    c.io.out.expect(3.S)\n",
    "    c.clock.step(1)\n",
    "    c.io.in.poke(6.S)\n",
    "    c.io.out.expect(-1.S)\n",
    "    c.clock.step(1)\n",
    "    c.io.out.expect(5.S)\n",
    "}"
   ]
  },
  {
   "attachments": {},
   "cell_type": "markdown",
   "metadata": {},
   "source": [
    "<div id=\"container\"><section id=\"accordion\"><div>\n",
    "<input type=\"checkbox\" id=\"check-2\" />\n",
    "<label for=\"check-2\"><strong>Solution</strong> (click to toggle displaying)</label>\n",
    "<article>\n",
    "<pre style=\"background-color:#f7f7f7\">\n",
    "\n",
    "class Integrator\\[T <: Data : Ring\\](genIn: T, genReg: T) extends Module {\n",
    "    val io = IO(new Bundle {\n",
    "        val in  = Input(genIn.cloneType)\n",
    "        val out = Output(genReg.cloneType)\n",
    "    })\n",
    "    \n",
    "    val reg = RegInit(genReg, Ring[T].zero) // init to zero\n",
    "    reg := reg + io.in\n",
    "    io.out := reg\n",
    "}\n",
    "\n",
    "</pre></article></div></section></div>"
   ]
  },
  {
   "attachments": {},
   "cell_type": "markdown",
   "metadata": {},
   "source": [
    "---\n",
    "# Creating a Custom Type<a name=\"creating-a-custom-type\"></a>\n",
    "\n",
    "One of the things that makes Chisel powerful is its extensibility.\n",
    "You can add your own types that have their own operations and representations that are tailored to your application.\n",
    "This section will introduce ways to make custom types."
   ]
  },
  {
   "attachments": {},
   "cell_type": "markdown",
   "metadata": {},
   "source": [
    "<span style=\"color:blue\">**Example: DspComplex**</span><br>\n",
    "`DspComplex` is a custom data type defined in **dsptools** [here](https://github.com/ucb-bar/dsptools/blob/v1.0.0/src/main/scala/dsptools/numbers/chisel_concrete/DspComplex.scala#L59).\n",
    "The key line to understand is this:\n",
    "```scala\n",
    "class DspComplex[T <: Data:Ring](val real: T, val imag: T) extends Bundle { ... }\n",
    "```\n",
    "\n",
    "`DspComplex` is a type-generic container.\n",
    "That means the real and imaginary parts of a complex number can be any type as long as they satisfy the type constraints, given by `T <: Data : Ring`.\n",
    "\n",
    "`T <: Data` means `T` is a subtype of `chisel3.Data`, the base type for Chisel objects.\n",
    "This means that `DspComplex` only works for objects that are Chisel types and not arbitrary Scala types.\n",
    "\n",
    "`T : Ring` means that a Ring typeclass implementation for `T` exists.\n",
    "`Ring` typeclasses define `+` and `*` operators as well as additive and multiplicative identities (see [this Wikipedia article](https://en.wikipedia.org/wiki/Ring_(mathematics)) for details about rings).\n",
    "**dsptools** defines typeclasses for commonly used Chisel types [here](https://github.com/ucb-bar/dsptools/tree/v1.0.0/src/main/scala/dsptools/numbers/chisel_types).\n",
    "\n",
    "**dsptools** also defines a `Ring` typeclass for `DspComplex`, so we can reuse our MAC generator with complex numbers:"
   ]
  },
  {
   "cell_type": "code",
   "execution_count": 11,
   "metadata": {},
   "outputs": [
    {
     "name": "stdout",
     "output_type": "stream",
     "text": [
      "Elaborating design...\n",
      "Done elaborating.\n",
      "module Mac(\n",
      "  input        clock,\n",
      "  input        reset,\n",
      "  input  [3:0] io_a_real,\n",
      "  input  [3:0] io_a_imag,\n",
      "  input  [3:0] io_b_real,\n",
      "  input  [3:0] io_b_imag,\n",
      "  input  [3:0] io_c_real,\n",
      "  input  [3:0] io_c_imag,\n",
      "  output [5:0] io_out_real,\n",
      "  output [5:0] io_out_imag\n",
      ");\n",
      "  wire [3:0] _T_2 = $signed(io_b_real) + $signed(io_b_imag); // @[SIntTypeClass.scala 19:40]\n",
      "  wire [3:0] _T_5 = $signed(io_a_real) + $signed(io_a_imag); // @[SIntTypeClass.scala 19:40]\n",
      "  wire [3:0] _T_8 = $signed(io_a_imag) - $signed(io_a_real); // @[SIntTypeClass.scala 29:50]\n",
      "  wire [7:0] _T_9 = $signed(io_a_real) * $signed(_T_2); // @[SIntTypeClass.scala 45:41]\n",
      "  wire [7:0] _T_10 = $signed(_T_5) * $signed(io_b_imag); // @[SIntTypeClass.scala 45:41]\n",
      "  wire [7:0] _T_11 = $signed(_T_8) * $signed(io_b_real); // @[SIntTypeClass.scala 45:41]\n",
      "  wire [7:0] _T_14 = $signed(_T_9) - $signed(_T_10); // @[SIntTypeClass.scala 29:50]\n",
      "  wire [7:0] _T_17 = $signed(_T_9) + $signed(_T_11); // @[SIntTypeClass.scala 19:40]\n",
      "  wire [7:0] _GEN_0 = {{4{io_c_real[3]}},io_c_real}; // @[SIntTypeClass.scala 19:40]\n",
      "  wire [7:0] _T_20 = $signed(_T_14) + $signed(_GEN_0); // @[SIntTypeClass.scala 19:40]\n",
      "  wire [7:0] _GEN_1 = {{4{io_c_imag[3]}},io_c_imag}; // @[SIntTypeClass.scala 19:40]\n",
      "  wire [7:0] _T_23 = $signed(_T_17) + $signed(_GEN_1); // @[SIntTypeClass.scala 19:40]\n",
      "  assign io_out_real = _T_20[5:0]; // @[cmd10.sc 11:12]\n",
      "  assign io_out_imag = _T_23[5:0]; // @[cmd10.sc 11:12]\n",
      "endmodule\n",
      "\n"
     ]
    },
    {
     "data": {
      "text/plain": [
       "\u001b[32mimport \u001b[39m\u001b[36mdsptools.numbers._\n",
       "\u001b[39m\r\n",
       "\u001b[32mimport \u001b[39m\u001b[36mchisel3.experimental._\n",
       "\n",
       "\u001b[39m\r\n",
       "defined \u001b[32mclass\u001b[39m \u001b[36mMac\u001b[39m"
      ]
     },
     "execution_count": 11,
     "metadata": {},
     "output_type": "execute_result"
    }
   ],
   "source": [
    "import dsptools.numbers._\n",
    "import chisel3.experimental._\n",
    "\n",
    "class Mac[T <: chisel3.Data : Ring](genIn : T, genOut: T) extends Module {\n",
    "    val io = IO(new Bundle {\n",
    "        val a = Input(genIn)\n",
    "        val b = Input(genIn)\n",
    "        val c = Input(genIn)\n",
    "        val out = Output(genOut)\n",
    "    })\n",
    "    io.out := io.a * io.b + io.c\n",
    "}\n",
    "\n",
    "println(getVerilog(new Mac(DspComplex(SInt(4.W), SInt(4.W)), DspComplex(SInt(6.W), SInt(6.W))) ))"
   ]
  },
  {
   "attachments": {},
   "cell_type": "markdown",
   "metadata": {},
   "source": [
    "<span style=\"color:red\">**Exercise: Sign-magnitude Numbers**</span><br>\n",
    "Suppose you wanted to use a sign-magnitude representation and want to reuse all of your DSP generators.\n",
    "Typeclasses enable this kind of ad-hoc polymorphism.\n",
    "The following example gives the beggining of an implementation of a SignMagnitude type as well as an implementation of a `Ring` typeclass that will allow the type to be used with the Mac generator.\n",
    "\n",
    "Fill in implementations for `+` and `*`.\n",
    "You should pattern them after the implementation for `unary_-()`.\n",
    "The next block contains a test that checks the correctness of a `Mac` that uses `SignMagnitude`."
   ]
  },
  {
   "cell_type": "code",
   "execution_count": 18,
   "metadata": {},
   "outputs": [
    {
     "data": {
      "text/plain": [
       "\u001b[32mimport \u001b[39m\u001b[36mdsptools.numbers._\n",
       "// SignMagnitude is a class which extends Bundle which is used to define io\n",
       "// MagnitudeWidth is for representing the number of bits for the width of the value bits\n",
       "// This is an option, defualt value would be None\n",
       "\u001b[39m\r\n",
       "defined \u001b[32mclass\u001b[39m \u001b[36mSignMagnitude\u001b[39m\r\n",
       "defined \u001b[32mtrait\u001b[39m \u001b[36mSignMagnitudeRing\u001b[39m\r\n",
       "defined \u001b[32mobject\u001b[39m \u001b[36mSignMagnitudeRingImpl\u001b[39m"
      ]
     },
     "execution_count": 18,
     "metadata": {},
     "output_type": "execute_result"
    }
   ],
   "source": [
    "import dsptools.numbers._\n",
    "// SignMagnitude is a class which extends Bundle which is used to define io\n",
    "// MagnitudeWidth is for representing the number of bits for the width of the value bits\n",
    "// This is an option, defualt value would be None\n",
    "class SignMagnitude(val magnitudeWidth: Option[Int] = None) extends Bundle {\n",
    "\n",
    "    // sign is a boolean value, 0 for positive , -1 for negative\n",
    "    val sign = Bool()\n",
    "\n",
    "    // magnitude is based on the passed parameter\n",
    "    val magnitude = magnitudeWidth match {\n",
    "\n",
    "        // if the passed parameter is a Some(w) , we use w to create the width\n",
    "        case Some(w) => UInt(w.W)\n",
    "\n",
    "        // if its None, then create the UInt without any ints\n",
    "        case None    => UInt()\n",
    "    }\n",
    "\n",
    "\n",
    "    def +(that: SignMagnitude): SignMagnitude = {\n",
    "        // Implement this!\n",
    "        val result = Wire(new SignMagnitude())\n",
    "        when(this.sign===that.sign){\n",
    "            result.sign := that.sign\n",
    "            result.magnitude := this.magnitude + that.magnitude\n",
    "        }.otherwise{\n",
    "            when(that.magnitude>this.magnitude){\n",
    "                result.sign := that.sign\n",
    "                result.magnitude := that.magnitude - this.magnitude\n",
    "            }.otherwise{\n",
    "                result.sign := this.sign\n",
    "                result.magnitude := this.magnitude - that.magnitude\n",
    "            }\n",
    "        }\n",
    "        result\n",
    "    }\n",
    "\n",
    "    def -(that: SignMagnitude): SignMagnitude = {\n",
    "        this.+(-that)\n",
    "    }\n",
    "    def unary_-(): SignMagnitude = {\n",
    "        val result = Wire(new SignMagnitude())\n",
    "        result.sign := !this.sign\n",
    "        result.magnitude := this.magnitude\n",
    "        result\n",
    "    }\n",
    "    def *(that: SignMagnitude): SignMagnitude = {\n",
    "        // Implement this!\n",
    "        val result = Wire(new SignMagnitude())\n",
    "        when(this.sign===that.sign){ // both are positive or both are negative\n",
    "            result.sign := this.sign\n",
    "        }.otherwise{    // both have different signs\n",
    "            result.sign := true.B\n",
    "        }\n",
    "        result.magnitude := this.magnitude * that.magnitude\n",
    "        result\n",
    "    }\n",
    "}\n",
    "trait SignMagnitudeRing extends Ring[SignMagnitude] {\n",
    "    def plus(f: SignMagnitude, g: SignMagnitude): SignMagnitude = {\n",
    "        f + g\n",
    "    }\n",
    "    def times(f: SignMagnitude, g: SignMagnitude): SignMagnitude = {\n",
    "        f * g\n",
    "    }\n",
    "    def one: SignMagnitude = {\n",
    "        val one = Wire(new SignMagnitude(Some(1)))\n",
    "        one.sign := false.B\n",
    "        one.magnitude := 1.U\n",
    "        one\n",
    "    }\n",
    "    def zero: SignMagnitude = {\n",
    "        val zero = Wire(new SignMagnitude(Some(0)))\n",
    "        zero.sign := false.B\n",
    "        zero.magnitude := 0.U\n",
    "        zero\n",
    "    }\n",
    "    def negate(f: SignMagnitude): SignMagnitude = {\n",
    "        -f\n",
    "    }\n",
    "    \n",
    "    // Leave unimplemented for this example\n",
    "    def minusContext(f: SignMagnitude, g: SignMagnitude): SignMagnitude = ???\n",
    "    def negateContext(f: SignMagnitude): SignMagnitude = ???\n",
    "    def plusContext(f: SignMagnitude,g: SignMagnitude): SignMagnitude = ???\n",
    "    def timesContext(f: SignMagnitude,g: SignMagnitude): SignMagnitude = ???\n",
    "}\n",
    "implicit object SignMagnitudeRingImpl extends SignMagnitudeRing"
   ]
  },
  {
   "cell_type": "code",
   "execution_count": 19,
   "metadata": {},
   "outputs": [
    {
     "name": "stdout",
     "output_type": "stream",
     "text": [
      "Elaborating design...\n",
      "Done elaborating.\n",
      "test Mac Success: 0 tests passed in 2 cycles in 0.020668 seconds 96.77 Hz\n",
      "SUCCESS!!\n"
     ]
    },
    {
     "data": {
      "text/plain": [
       "\u001b[32mimport \u001b[39m\u001b[36mchisel3.experimental.BundleLiterals._\n",
       "\n",
       "\u001b[39m"
      ]
     },
     "execution_count": 19,
     "metadata": {},
     "output_type": "execute_result"
    }
   ],
   "source": [
    "import chisel3.experimental.BundleLiterals._\n",
    "\n",
    "test(new Mac(new SignMagnitude(Some(4)), new SignMagnitude(Some(5)))) { c =>\n",
    "    c.io.a.poke(chiselTypeOf(c.io.a).Lit(_.sign -> false.B, _.magnitude -> 3.U))\n",
    "    c.io.b.poke(chiselTypeOf(c.io.b).Lit(_.sign -> false.B, _.magnitude -> 3.U))\n",
    "    c.io.c.poke(chiselTypeOf(c.io.c).Lit(_.sign -> false.B, _.magnitude -> 2.U))\n",
    "    c.io.out.expect(chiselTypeOf(c.io.out).Lit(_.sign -> false.B, _.magnitude -> 11.U))\n",
    "\n",
    "    c.io.c.sign.poke(true.B)\n",
    "    c.io.out.expect(chiselTypeOf(c.io.out).Lit(_.sign -> false.B, _.magnitude -> 7.U))\n",
    "\n",
    "    c.io.b.sign.poke(true.B)\n",
    "    c.io.out.expect(chiselTypeOf(c.io.out).Lit(_.sign -> true.B, _.magnitude -> 11.U))\n",
    "}\n",
    "println(\"SUCCESS!!\") // Scala Code: if we get here, our tests passed!"
   ]
  },
  {
   "attachments": {},
   "cell_type": "markdown",
   "metadata": {},
   "source": [
    "Look at the verilog to see if the output looks reasonable:"
   ]
  },
  {
   "cell_type": "code",
   "execution_count": 20,
   "metadata": {},
   "outputs": [
    {
     "name": "stdout",
     "output_type": "stream",
     "text": [
      "Elaborating design...\n",
      "Done elaborating.\n",
      "module Mac(\n",
      "  input        clock,\n",
      "  input        reset,\n",
      "  input        io_a_sign,\n",
      "  input  [3:0] io_a_magnitude,\n",
      "  input        io_b_sign,\n",
      "  input  [3:0] io_b_magnitude,\n",
      "  input        io_c_sign,\n",
      "  input  [3:0] io_c_magnitude,\n",
      "  output       io_out_sign,\n",
      "  output [4:0] io_out_magnitude\n",
      ");\n",
      "  wire  _GEN_0 = io_a_sign == io_b_sign ? io_a_sign : 1'h1; // @[cmd17.sc 51:36 cmd17.sc 52:25 cmd17.sc 54:25]\n",
      "  wire [7:0] _T_1 = io_a_magnitude * io_b_magnitude; // @[cmd17.sc 56:44]\n",
      "  wire [7:0] _GEN_5 = {{4'd0}, io_c_magnitude}; // @[cmd17.sc 26:48]\n",
      "  wire [7:0] _T_4 = _T_1 + _GEN_5; // @[cmd17.sc 26:48]\n",
      "  wire [7:0] _T_7 = _GEN_5 - _T_1; // @[cmd17.sc 30:52]\n",
      "  wire [7:0] _T_9 = _T_1 - _GEN_5; // @[cmd17.sc 33:52]\n",
      "  wire  _GEN_1 = _GEN_5 > _T_1 ? io_c_sign : _GEN_0; // @[cmd17.sc 28:48 cmd17.sc 29:29 cmd17.sc 32:29]\n",
      "  wire [7:0] _GEN_2 = _GEN_5 > _T_1 ? _T_7 : _T_9; // @[cmd17.sc 28:48 cmd17.sc 30:34 cmd17.sc 33:34]\n",
      "  wire [7:0] _GEN_4 = _GEN_0 == io_c_sign ? _T_4 : _GEN_2; // @[cmd17.sc 24:36 cmd17.sc 26:30]\n",
      "  assign io_out_sign = _GEN_0 == io_c_sign ? io_c_sign : _GEN_1; // @[cmd17.sc 24:36 cmd17.sc 25:25]\n",
      "  assign io_out_magnitude = _GEN_4[4:0]; // @[cmd10.sc 11:12]\n",
      "endmodule\n",
      "\n"
     ]
    }
   ],
   "source": [
    "println(getVerilog(new Mac(new SignMagnitude(Some(4)), new SignMagnitude(Some(5)))))"
   ]
  },
  {
   "attachments": {},
   "cell_type": "markdown",
   "metadata": {},
   "source": [
    "`SignMagnitude` even works with `DspComplex`!"
   ]
  },
  {
   "cell_type": "code",
   "execution_count": 21,
   "metadata": {},
   "outputs": [
    {
     "name": "stdout",
     "output_type": "stream",
     "text": [
      "Elaborating design...\n",
      "Done elaborating.\n",
      "module Mac(\n",
      "  input        clock,\n",
      "  input        reset,\n",
      "  input        io_a_real_sign,\n",
      "  input  [3:0] io_a_real_magnitude,\n",
      "  input        io_a_imag_sign,\n",
      "  input  [3:0] io_a_imag_magnitude,\n",
      "  input        io_b_real_sign,\n",
      "  input  [3:0] io_b_real_magnitude,\n",
      "  input        io_b_imag_sign,\n",
      "  input  [3:0] io_b_imag_magnitude,\n",
      "  input        io_c_real_sign,\n",
      "  input  [3:0] io_c_real_magnitude,\n",
      "  input        io_c_imag_sign,\n",
      "  input  [3:0] io_c_imag_magnitude,\n",
      "  output       io_out_real_sign,\n",
      "  output [4:0] io_out_real_magnitude,\n",
      "  output       io_out_imag_sign,\n",
      "  output [4:0] io_out_imag_magnitude\n",
      ");\n",
      "  wire [3:0] _T_2 = io_b_real_magnitude + io_b_imag_magnitude; // @[cmd17.sc 26:48]\n",
      "  wire [3:0] _T_5 = io_b_imag_magnitude - io_b_real_magnitude; // @[cmd17.sc 30:52]\n",
      "  wire [3:0] _T_7 = io_b_real_magnitude - io_b_imag_magnitude; // @[cmd17.sc 33:52]\n",
      "  wire  _GEN_0 = io_b_imag_magnitude > io_b_real_magnitude ? io_b_imag_sign : io_b_real_sign; // @[cmd17.sc 28:48 cmd17.sc 29:29 cmd17.sc 32:29]\n",
      "  wire [3:0] _GEN_1 = io_b_imag_magnitude > io_b_real_magnitude ? _T_5 : _T_7; // @[cmd17.sc 28:48 cmd17.sc 30:34 cmd17.sc 33:34]\n",
      "  wire  _GEN_2 = io_b_real_sign == io_b_imag_sign ? io_b_imag_sign : _GEN_0; // @[cmd17.sc 24:36 cmd17.sc 25:25]\n",
      "  wire [3:0] _GEN_3 = io_b_real_sign == io_b_imag_sign ? _T_2 : _GEN_1; // @[cmd17.sc 24:36 cmd17.sc 26:30]\n",
      "  wire [3:0] _T_10 = io_a_real_magnitude + io_a_imag_magnitude; // @[cmd17.sc 26:48]\n",
      "  wire [3:0] _T_13 = io_a_imag_magnitude - io_a_real_magnitude; // @[cmd17.sc 30:52]\n",
      "  wire [3:0] _T_15 = io_a_real_magnitude - io_a_imag_magnitude; // @[cmd17.sc 33:52]\n",
      "  wire  _GEN_4 = io_a_imag_magnitude > io_a_real_magnitude ? io_a_imag_sign : io_a_real_sign; // @[cmd17.sc 28:48 cmd17.sc 29:29 cmd17.sc 32:29]\n",
      "  wire [3:0] _GEN_5 = io_a_imag_magnitude > io_a_real_magnitude ? _T_13 : _T_15; // @[cmd17.sc 28:48 cmd17.sc 30:34 cmd17.sc 33:34]\n",
      "  wire  _GEN_6 = io_a_real_sign == io_a_imag_sign ? io_a_imag_sign : _GEN_4; // @[cmd17.sc 24:36 cmd17.sc 25:25]\n",
      "  wire [3:0] _GEN_7 = io_a_real_sign == io_a_imag_sign ? _T_10 : _GEN_5; // @[cmd17.sc 24:36 cmd17.sc 26:30]\n",
      "  wire  _T_16 = ~io_a_real_sign; // @[cmd17.sc 44:24]\n",
      "  wire [3:0] _T_19 = io_a_imag_magnitude + io_a_real_magnitude; // @[cmd17.sc 26:48]\n",
      "  wire  _GEN_8 = io_a_real_magnitude > io_a_imag_magnitude ? _T_16 : io_a_imag_sign; // @[cmd17.sc 28:48 cmd17.sc 29:29 cmd17.sc 32:29]\n",
      "  wire [3:0] _GEN_9 = io_a_real_magnitude > io_a_imag_magnitude ? _T_15 : _T_13; // @[cmd17.sc 28:48 cmd17.sc 30:34 cmd17.sc 33:34]\n",
      "  wire  _GEN_10 = io_a_imag_sign == _T_16 ? _T_16 : _GEN_8; // @[cmd17.sc 24:36 cmd17.sc 25:25]\n",
      "  wire [3:0] _GEN_11 = io_a_imag_sign == _T_16 ? _T_19 : _GEN_9; // @[cmd17.sc 24:36 cmd17.sc 26:30]\n",
      "  wire  _GEN_12 = io_a_real_sign == _GEN_2 ? io_a_real_sign : 1'h1; // @[cmd17.sc 51:36 cmd17.sc 52:25 cmd17.sc 54:25]\n",
      "  wire [7:0] _T_26 = io_a_real_magnitude * _GEN_3; // @[cmd17.sc 56:44]\n",
      "  wire  _GEN_13 = _GEN_6 == io_b_imag_sign ? _GEN_6 : 1'h1; // @[cmd17.sc 51:36 cmd17.sc 52:25 cmd17.sc 54:25]\n",
      "  wire [7:0] _T_28 = _GEN_7 * io_b_imag_magnitude; // @[cmd17.sc 56:44]\n",
      "  wire  _GEN_14 = _GEN_10 == io_b_real_sign ? _GEN_10 : 1'h1; // @[cmd17.sc 51:36 cmd17.sc 52:25 cmd17.sc 54:25]\n",
      "  wire [7:0] _T_30 = _GEN_11 * io_b_real_magnitude; // @[cmd17.sc 56:44]\n",
      "  wire  _T_31 = ~_GEN_13; // @[cmd17.sc 44:24]\n",
      "  wire [7:0] _T_34 = _T_26 + _T_28; // @[cmd17.sc 26:48]\n",
      "  wire [7:0] _T_37 = _T_28 - _T_26; // @[cmd17.sc 30:52]\n",
      "  wire [7:0] _T_39 = _T_26 - _T_28; // @[cmd17.sc 33:52]\n",
      "  wire  _GEN_15 = _T_28 > _T_26 ? _T_31 : _GEN_12; // @[cmd17.sc 28:48 cmd17.sc 29:29 cmd17.sc 32:29]\n",
      "  wire [7:0] _GEN_16 = _T_28 > _T_26 ? _T_37 : _T_39; // @[cmd17.sc 28:48 cmd17.sc 30:34 cmd17.sc 33:34]\n",
      "  wire  _GEN_17 = _GEN_12 == _T_31 ? _T_31 : _GEN_15; // @[cmd17.sc 24:36 cmd17.sc 25:25]\n",
      "  wire [7:0] _GEN_18 = _GEN_12 == _T_31 ? _T_34 : _GEN_16; // @[cmd17.sc 24:36 cmd17.sc 26:30]\n",
      "  wire [7:0] _T_42 = _T_26 + _T_30; // @[cmd17.sc 26:48]\n",
      "  wire [7:0] _T_45 = _T_30 - _T_26; // @[cmd17.sc 30:52]\n",
      "  wire [7:0] _T_47 = _T_26 - _T_30; // @[cmd17.sc 33:52]\n",
      "  wire  _GEN_19 = _T_30 > _T_26 ? _GEN_14 : _GEN_12; // @[cmd17.sc 28:48 cmd17.sc 29:29 cmd17.sc 32:29]\n",
      "  wire [7:0] _GEN_20 = _T_30 > _T_26 ? _T_45 : _T_47; // @[cmd17.sc 28:48 cmd17.sc 30:34 cmd17.sc 33:34]\n",
      "  wire  _GEN_21 = _GEN_12 == _GEN_14 ? _GEN_14 : _GEN_19; // @[cmd17.sc 24:36 cmd17.sc 25:25]\n",
      "  wire [7:0] _GEN_22 = _GEN_12 == _GEN_14 ? _T_42 : _GEN_20; // @[cmd17.sc 24:36 cmd17.sc 26:30]\n",
      "  wire [7:0] _GEN_31 = {{4'd0}, io_c_real_magnitude}; // @[cmd17.sc 26:48]\n",
      "  wire [7:0] _T_50 = _GEN_18 + _GEN_31; // @[cmd17.sc 26:48]\n",
      "  wire [7:0] _T_53 = _GEN_31 - _GEN_18; // @[cmd17.sc 30:52]\n",
      "  wire [7:0] _T_55 = _GEN_18 - _GEN_31; // @[cmd17.sc 33:52]\n",
      "  wire  _GEN_23 = _GEN_31 > _GEN_18 ? io_c_real_sign : _GEN_17; // @[cmd17.sc 28:48 cmd17.sc 29:29 cmd17.sc 32:29]\n",
      "  wire [7:0] _GEN_24 = _GEN_31 > _GEN_18 ? _T_53 : _T_55; // @[cmd17.sc 28:48 cmd17.sc 30:34 cmd17.sc 33:34]\n",
      "  wire [7:0] _GEN_26 = _GEN_17 == io_c_real_sign ? _T_50 : _GEN_24; // @[cmd17.sc 24:36 cmd17.sc 26:30]\n",
      "  wire [7:0] _GEN_35 = {{4'd0}, io_c_imag_magnitude}; // @[cmd17.sc 26:48]\n",
      "  wire [7:0] _T_58 = _GEN_22 + _GEN_35; // @[cmd17.sc 26:48]\n",
      "  wire [7:0] _T_61 = _GEN_35 - _GEN_22; // @[cmd17.sc 30:52]\n",
      "  wire [7:0] _T_63 = _GEN_22 - _GEN_35; // @[cmd17.sc 33:52]\n",
      "  wire  _GEN_27 = _GEN_35 > _GEN_22 ? io_c_imag_sign : _GEN_21; // @[cmd17.sc 28:48 cmd17.sc 29:29 cmd17.sc 32:29]\n",
      "  wire [7:0] _GEN_28 = _GEN_35 > _GEN_22 ? _T_61 : _T_63; // @[cmd17.sc 28:48 cmd17.sc 30:34 cmd17.sc 33:34]\n",
      "  wire [7:0] _GEN_30 = _GEN_21 == io_c_imag_sign ? _T_58 : _GEN_28; // @[cmd17.sc 24:36 cmd17.sc 26:30]\n",
      "  assign io_out_real_sign = _GEN_17 == io_c_real_sign ? io_c_real_sign : _GEN_23; // @[cmd17.sc 24:36 cmd17.sc 25:25]\n",
      "  assign io_out_real_magnitude = _GEN_26[4:0]; // @[cmd10.sc 11:12]\n",
      "  assign io_out_imag_sign = _GEN_21 == io_c_imag_sign ? io_c_imag_sign : _GEN_27; // @[cmd17.sc 24:36 cmd17.sc 25:25]\n",
      "  assign io_out_imag_magnitude = _GEN_30[4:0]; // @[cmd10.sc 11:12]\n",
      "endmodule\n",
      "\n"
     ]
    }
   ],
   "source": [
    "println(getVerilog(new Mac(DspComplex(new SignMagnitude(Some(4)), new SignMagnitude(Some(4))), DspComplex(new SignMagnitude(Some(5)), new SignMagnitude(Some(5))))))"
   ]
  },
  {
   "attachments": {},
   "cell_type": "markdown",
   "metadata": {},
   "source": [
    "<div id=\"container\"><section id=\"accordion\"><div>\n",
    "<input type=\"checkbox\" id=\"check-3\" />\n",
    "<label for=\"check-3\"><strong>Solution</strong> (click to toggle displaying)</label>\n",
    "<article>\n",
    "<pre style=\"background-color:#f7f7f7\">\n",
    "    // implementations for class SignMagnitude\n",
    "\n",
    "    def +(that: SignMagnitude): SignMagnitude = {\n",
    "      val result = Wire(new SignMagnitude())\n",
    "      val signsTheSame = this.sign === that.sign\n",
    "      when (signsTheSame) {\n",
    "        result.sign      := this.sign\n",
    "        result.magnitude := this.magnitude + that.magnitude\n",
    "      } .otherwise {\n",
    "        when (this.magnitude > that.magnitude) {\n",
    "          result.sign      := this.sign\n",
    "          result.magnitude := this.magnitude - that.magnitude\n",
    "        } .otherwise {\n",
    "          result.sign      := that.sign\n",
    "          result.magnitude := that.magnitude - this.magnitude\n",
    "        }   \n",
    "      }   \n",
    "      result\n",
    "    }\n",
    "    def *(that: SignMagnitude): SignMagnitude = {\n",
    "        val result = Wire(new SignMagnitude())\n",
    "        result.sign := this.sign ^ that.sign\n",
    "        result.magnitude := this.magnitude * that.magnitude\n",
    "        result\n",
    "    }\n",
    "\n",
    "\n",
    "</pre></article></div></section></div>"
   ]
  },
  {
   "cell_type": "code",
   "execution_count": null,
   "metadata": {},
   "outputs": [],
   "source": []
  }
 ],
 "metadata": {
  "kernelspec": {
   "display_name": "Scala",
   "language": "scala",
   "name": "scala"
  },
  "language_info": {
   "codemirror_mode": "text/x-scala",
   "file_extension": ".sc",
   "mimetype": "text/x-scala",
   "name": "scala",
   "nbconvert_exporter": "script",
   "version": "2.12.8"
  }
 },
 "nbformat": 4,
 "nbformat_minor": 1
}
